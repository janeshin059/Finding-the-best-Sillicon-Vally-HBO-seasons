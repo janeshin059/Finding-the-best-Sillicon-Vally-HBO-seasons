{
 "cells": [
  {
   "cell_type": "code",
   "execution_count": 1,
   "metadata": {},
   "outputs": [
    {
     "name": "stderr",
     "output_type": "stream",
     "text": [
      "C:\\Users\\user\\AppData\\Roaming\\Python\\Python36\\site-packages\\ggplot\\utils.py:81: FutureWarning: pandas.tslib is deprecated and will be removed in a future version.\n",
      "You can access Timestamp as pandas.Timestamp\n",
      "  pd.tslib.Timestamp,\n"
     ]
    }
   ],
   "source": [
    "import imdb as imdb#to access imdb API\n",
    "import pandas as pd #for data array handling\n",
    "from bs4 import BeautifulSoup as soup\n",
    "# for website parsing and scraping (rotten tomatoes)\n",
    "from urllib.request import urlopen as uReq\n",
    "import re#for reqular expressions\n",
    "#from pandas.lib import Timestamp\n",
    "from ggplot import * #for plotting\n"
   ]
  },
  {
   "cell_type": "code",
   "execution_count": 2,
   "metadata": {},
   "outputs": [],
   "source": [
    "#get the imdb rate in each episode\n",
    "\n",
    "filename= \"episodes.csv\"\n",
    "filename2=\"seasons.csv\"\n",
    "f=open(filename, \"w\")\n",
    "f2=open(filename2, \"w\")\n"
   ]
  },
  {
   "cell_type": "code",
   "execution_count": 3,
   "metadata": {},
   "outputs": [],
   "source": [
    "from pandas import Series,DataFrame\n"
   ]
  },
  {
   "cell_type": "markdown",
   "metadata": {},
   "source": []
  },
  {
   "cell_type": "code",
   "execution_count": 4,
   "metadata": {
    "scrolled": true
   },
   "outputs": [
    {
     "name": "stderr",
     "output_type": "stream",
     "text": [
      "C:\\Users\\user\\AppData\\Roaming\\Python\\Python36\\site-packages\\ipykernel_launcher.py:29: SettingWithCopyWarning: \n",
      "A value is trying to be set on a copy of a slice from a DataFrame\n",
      "\n",
      "See the caveats in the documentation: http://pandas.pydata.org/pandas-docs/stable/indexing.html#indexing-view-versus-copy\n",
      "C:\\Users\\user\\AppData\\Roaming\\Python\\Python36\\site-packages\\ipykernel_launcher.py:37: SettingWithCopyWarning: \n",
      "A value is trying to be set on a copy of a slice from a DataFrame\n",
      "\n",
      "See the caveats in the documentation: http://pandas.pydata.org/pandas-docs/stable/indexing.html#indexing-view-versus-copy\n"
     ]
    }
   ],
   "source": [
    "#scraping IMDb to get the data\n",
    "j=1\n",
    "a=0\n",
    "b=0\n",
    "k=0\n",
    "df_e=pd.DataFrame()\n",
    "df_s=pd.DataFrame({'Season': [1,2,3,4,5]})\n",
    "\n",
    "for i in range(1,6):\n",
    "    SeasonAVG=0\n",
    "    season_avg=0       \n",
    "    idx=0\n",
    "    episode_num=0\n",
    "    df_e = df_e.append({'Season': i},ignore_index=True)\n",
    "    imdb_url = 'https://www.imdb.com/title/tt2575988/episodes?season=%d' %i\n",
    "    iClient = uReq(imdb_url) #opening the connection, downloading the webpage\n",
    "    ipage_html = iClient.read()\n",
    "    iClient.close()\n",
    "    \n",
    "    #do html parsing\n",
    "    ipage_soup = soup(ipage_html,\"html.parser\")\n",
    "    episodenames = ipage_soup.findAll(\"a\",{\"itemprop\":\"name\"})\n",
    "    rates = ipage_soup.findAll(\"span\",{\"class\":\"ipl-rating-star__rating\"})\n",
    "    for episodename in episodenames:\n",
    "            k+=1\n",
    "            if k<48:\n",
    "                ep_name = episodename[\"title\"]\n",
    "                df_e = df_e.append( {'Episode_Name':ep_name},ignore_index=True)\n",
    "                df_e[\"Episode_Name\"][a]=ep_name\n",
    "                a+=1\n",
    "                for rate in rates:\n",
    "                    if idx==0 or idx%23==0:\n",
    "                        imdb_rate = rate.text\n",
    "                        season_avg+=float(imdb_rate)\n",
    "                        df_e = df_e.append( {\"IMDb_rate\":imdb_rate},ignore_index=True)\n",
    "                        \n",
    "                        df_e[\"IMDb_rate\"][b]=imdb_rate\n",
    "                        b+=1\n",
    "                        episode_num+=1\n",
    "                    idx+=1\n",
    "    \n",
    "    SeasonAVG=float(season_avg/episode_num)\n",
    "    df_s = df_s.append( {\"IMDb_season_avg\":SeasonAVG},ignore_index=True)\n",
    "    df_s[\"IMDb_season_avg\"][i-1]=SeasonAVG\n",
    "                \n"
   ]
  },
  {
   "cell_type": "code",
   "execution_count": 6,
   "metadata": {},
   "outputs": [],
   "source": [
    "#scraping ROTTEN TOMATOES to get the data\n",
    "my_url = 'https://www.rottentomatoes.com/tv/silicon_valley'\n",
    "uClient = uReq(my_url) #opening the connection, downloading the webpage\n",
    "page_html = uClient.read()\n",
    "uClient.close()\n",
    "#doing html parsing\n",
    "page_soup = soup(page_html,\"html.parser\")\n"
   ]
  },
  {
   "cell_type": "code",
   "execution_count": 7,
   "metadata": {},
   "outputs": [],
   "source": [
    "tomatometer = page_soup.findAll(\"span\",{\"class\":\"meter-value\"})\n",
    "#tomatometer\n",
    "#grab each tomatometer"
   ]
  },
  {
   "cell_type": "code",
   "execution_count": 8,
   "metadata": {},
   "outputs": [
    {
     "name": "stderr",
     "output_type": "stream",
     "text": [
      "C:\\Users\\user\\AppData\\Roaming\\Python\\Python36\\site-packages\\ipykernel_launcher.py:8: SettingWithCopyWarning: \n",
      "A value is trying to be set on a copy of a slice from a DataFrame\n",
      "\n",
      "See the caveats in the documentation: http://pandas.pydata.org/pandas-docs/stable/indexing.html#indexing-view-versus-copy\n",
      "  \n"
     ]
    }
   ],
   "source": [
    "#Tomatometers = tomatometer[0] #prototyping the loop\n",
    "i=6\n",
    "for Tomatometers in tomatometer:\n",
    "    TM = tomatometer[i].text\n",
    "    i=i-1\n",
    "    if i<=0:break\n",
    "    df_s = df_s.append( {\"Tomatometers\":TM},ignore_index=True)\n",
    "    df_s[\"Tomatometers\"][i-1] = TM\n",
    "#df_s.head(30)\n",
    "#df_s.to_csv(\"seasons.csv\",index= False, mode='w')\n"
   ]
  },
  {
   "cell_type": "code",
   "execution_count": 9,
   "metadata": {},
   "outputs": [],
   "source": [
    "#put the vieweres statistic in csv file, and then concatenate it with episodes.csv and seasons.csv\n",
    "#df_v=pd.DataFrame()\n",
    "df_v = pd.read_csv(\"viewers.csv\",names=[\"viewers\"])\n",
    "df_va = pd.read_csv(\"viewers_avg.csv\",names=[\"viewers_season_avg\"])\n",
    "df_ev = pd.concat([ df_e,df_v],axis=1)\n",
    "df_sva = pd.concat([df_s,df_va],axis =1)\n",
    "\n",
    "\n"
   ]
  },
  {
   "cell_type": "code",
   "execution_count": 11,
   "metadata": {},
   "outputs": [],
   "source": [
    "df_e.to_csv(\"episodes.csv\",mode='w')\n",
    "df_s.to_csv(\"seasons.csv\", mode='w')\n",
    "df_ev.to_csv(\"episodes_all.csv\",mode='w')"
   ]
  },
  {
   "cell_type": "code",
   "execution_count": 14,
   "metadata": {},
   "outputs": [],
   "source": [
    "df_sva.to_csv(\"seasons_all.csv\", mode='w')"
   ]
  },
  {
   "cell_type": "code",
   "execution_count": 12,
   "metadata": {},
   "outputs": [],
   "source": [
    "f2.close()\n",
    "f.close()"
   ]
  }
 ],
 "metadata": {
  "kernelspec": {
   "display_name": "Python 3",
   "language": "python",
   "name": "python3"
  },
  "language_info": {
   "codemirror_mode": {
    "name": "ipython",
    "version": 3
   },
   "file_extension": ".py",
   "mimetype": "text/x-python",
   "name": "python",
   "nbconvert_exporter": "python",
   "pygments_lexer": "ipython3",
   "version": "3.6.6"
  }
 },
 "nbformat": 4,
 "nbformat_minor": 2
}
